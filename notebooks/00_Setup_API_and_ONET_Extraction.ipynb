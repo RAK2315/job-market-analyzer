{
 "cells": [
  {
   "cell_type": "markdown",
   "metadata": {},
   "source": [
    "# Phase 0: Setup and Initial Data Extraction\n",
    "\n",
    "## Purpose\n",
    "This notebook documents the initial setup for the Job Market Analyzer project. It includes:\n",
    "\n",
    "1. **Environment Setup**\n",
    "   - Installed libraries\n",
    "   - Folder structure confirmation\n",
    "   - GitHub repository connection\n",
    "   - API keys stored in `.env`\n",
    "\n",
    "2. **O*NET Skills Database Extraction**\n",
    "   - Loading relevant O*NET Excel/CSV files\n",
    "   - Exploring unique skills, technology skills, and tools\n",
    "   - Notes on data cleaning and preparation for future use\n",
    "\n",
    "3. **API Testing**\n",
    "   - Testing Adzuna API connection\n",
    "   - Checking if API keys work\n",
    "   - Extracting sample job postings\n",
    "   - Inspecting JSON structure and available fields\n",
    "\n",
    "## Notes\n",
    "- This notebook is purely exploratory and preparatory.\n",
    "- No models or visualizations will be built here.\n",
    "- All data saved here will be used in later phases for modeling, skill extraction, and dashboard development.\n"
   ]
  },
  {
   "cell_type": "code",
   "execution_count": 9,
   "metadata": {},
   "outputs": [],
   "source": [
    "import pandas as pd\n",
    "import json\n",
    "onet_df= pd.read_csv('../data/raw/technology skills.csv')"
   ]
  },
  {
   "cell_type": "code",
   "execution_count": 10,
   "metadata": {},
   "outputs": [
    {
     "data": {
      "text/html": [
       "<div>\n",
       "<style scoped>\n",
       "    .dataframe tbody tr th:only-of-type {\n",
       "        vertical-align: middle;\n",
       "    }\n",
       "\n",
       "    .dataframe tbody tr th {\n",
       "        vertical-align: top;\n",
       "    }\n",
       "\n",
       "    .dataframe thead th {\n",
       "        text-align: right;\n",
       "    }\n",
       "</style>\n",
       "<table border=\"1\" class=\"dataframe\">\n",
       "  <thead>\n",
       "    <tr style=\"text-align: right;\">\n",
       "      <th></th>\n",
       "      <th>O*NET-SOC Code</th>\n",
       "      <th>Title</th>\n",
       "      <th>Example</th>\n",
       "      <th>Commodity Code</th>\n",
       "      <th>Commodity Title</th>\n",
       "      <th>Hot Technology</th>\n",
       "      <th>In Demand</th>\n",
       "    </tr>\n",
       "  </thead>\n",
       "  <tbody>\n",
       "    <tr>\n",
       "      <th>0</th>\n",
       "      <td>11-1011.00</td>\n",
       "      <td>Chief Executives</td>\n",
       "      <td>Adobe Acrobat</td>\n",
       "      <td>43232202</td>\n",
       "      <td>Document management software</td>\n",
       "      <td>Y</td>\n",
       "      <td>N</td>\n",
       "    </tr>\n",
       "    <tr>\n",
       "      <th>1</th>\n",
       "      <td>11-1011.00</td>\n",
       "      <td>Chief Executives</td>\n",
       "      <td>AdSense Tracker</td>\n",
       "      <td>43232306</td>\n",
       "      <td>Data base user interface and query software</td>\n",
       "      <td>N</td>\n",
       "      <td>N</td>\n",
       "    </tr>\n",
       "    <tr>\n",
       "      <th>2</th>\n",
       "      <td>11-1011.00</td>\n",
       "      <td>Chief Executives</td>\n",
       "      <td>Atlassian JIRA</td>\n",
       "      <td>43232201</td>\n",
       "      <td>Content workflow software</td>\n",
       "      <td>Y</td>\n",
       "      <td>N</td>\n",
       "    </tr>\n",
       "    <tr>\n",
       "      <th>3</th>\n",
       "      <td>11-1011.00</td>\n",
       "      <td>Chief Executives</td>\n",
       "      <td>Blackbaud The Raiser's Edge</td>\n",
       "      <td>43232303</td>\n",
       "      <td>Customer relationship management CRM software</td>\n",
       "      <td>N</td>\n",
       "      <td>N</td>\n",
       "    </tr>\n",
       "    <tr>\n",
       "      <th>4</th>\n",
       "      <td>11-1011.00</td>\n",
       "      <td>Chief Executives</td>\n",
       "      <td>ComputerEase construction accounting software</td>\n",
       "      <td>43231601</td>\n",
       "      <td>Accounting software</td>\n",
       "      <td>N</td>\n",
       "      <td>N</td>\n",
       "    </tr>\n",
       "  </tbody>\n",
       "</table>\n",
       "</div>"
      ],
      "text/plain": [
       "  O*NET-SOC Code             Title  \\\n",
       "0     11-1011.00  Chief Executives   \n",
       "1     11-1011.00  Chief Executives   \n",
       "2     11-1011.00  Chief Executives   \n",
       "3     11-1011.00  Chief Executives   \n",
       "4     11-1011.00  Chief Executives   \n",
       "\n",
       "                                         Example  Commodity Code  \\\n",
       "0                                  Adobe Acrobat        43232202   \n",
       "1                                AdSense Tracker        43232306   \n",
       "2                                 Atlassian JIRA        43232201   \n",
       "3                    Blackbaud The Raiser's Edge        43232303   \n",
       "4  ComputerEase construction accounting software        43231601   \n",
       "\n",
       "                                 Commodity Title Hot Technology In Demand  \n",
       "0                   Document management software              Y         N  \n",
       "1    Data base user interface and query software              N         N  \n",
       "2                      Content workflow software              Y         N  \n",
       "3  Customer relationship management CRM software              N         N  \n",
       "4                            Accounting software              N         N  "
      ]
     },
     "execution_count": 10,
     "metadata": {},
     "output_type": "execute_result"
    }
   ],
   "source": [
    "onet_df.head()"
   ]
  },
  {
   "cell_type": "code",
   "execution_count": 11,
   "metadata": {},
   "outputs": [
    {
     "name": "stdout",
     "output_type": "stream",
     "text": [
      "Total taxonomy size: 8785\n"
     ]
    }
   ],
   "source": [
    "# Step 1: Extract O*NET tool names\n",
    "onet_skills = onet_df[\"Example\"].dropna().str.lower().unique().tolist()\n",
    "\n",
    "# Step 2: Add seed list of must-have DS/ML skills\n",
    "seed_skills = [\n",
    "    \"python\", \"r\", \"sql\", \"pytorch\", \"tensorflow\", \"keras\", \"scikit-learn\",\n",
    "    \"pandas\", \"numpy\", \"matplotlib\", \"seaborn\", \"spark\", \"hadoop\", \"aws\",\n",
    "    \"azure\", \"gcp\", \"streamlit\", \"flask\", \"fastapi\", \"docker\", \"kubernetes\"\n",
    "]\n",
    "\n",
    "# Merge & deduplicate\n",
    "all_skills = sorted(set(onet_skills + seed_skills))\n",
    "\n",
    "# Save taxonomy\n",
    "taxonomy = {skill: {\"source\": \"onet\" if skill in onet_skills else \"seed\"}\n",
    "            for skill in all_skills}\n",
    "\n",
    "with open(\"../data/processed/skills_taxonomy.json\", \"w\") as f:\n",
    "    json.dump(taxonomy, f, indent=2)\n",
    "\n",
    "print(f\"Total taxonomy size: {len(taxonomy)}\")\n"
   ]
  },
  {
   "cell_type": "code",
   "execution_count": 13,
   "metadata": {},
   "outputs": [
    {
     "data": {
      "text/plain": [
       "Index(['O*NET-SOC Code', 'Title', 'Example', 'Commodity Code',\n",
       "       'Commodity Title', 'Hot Technology', 'In Demand'],\n",
       "      dtype='object')"
      ]
     },
     "execution_count": 13,
     "metadata": {},
     "output_type": "execute_result"
    }
   ],
   "source": [
    "onet_df.columns"
   ]
  },
  {
   "cell_type": "code",
   "execution_count": null,
   "metadata": {},
   "outputs": [],
   "source": []
  },
  {
   "cell_type": "code",
   "execution_count": 4,
   "metadata": {},
   "outputs": [],
   "source": [
    "#%pip install python-dotenv"
   ]
  },
  {
   "cell_type": "code",
   "execution_count": 5,
   "metadata": {},
   "outputs": [],
   "source": [
    "# API TESTING\n",
    "from dotenv import load_dotenv\n",
    "import os\n",
    "\n",
    "load_dotenv()  # loads your .env file\n",
    "\n",
    "ADZUNA_APP_ID = os.getenv(\"ADZUNA_APP_ID\")\n",
    "ADZUNA_APP_KEY = os.getenv(\"ADZUNA_APP_KEY\")"
   ]
  },
  {
   "cell_type": "code",
   "execution_count": 8,
   "metadata": {},
   "outputs": [
    {
     "name": "stdout",
     "output_type": "stream",
     "text": [
      "Adzuna API works! Number of jobs fetched: 5\n",
      "Sample job keys: ['created', 'id', 'redirect_url', 'title', 'description', '__CLASS__', 'salary_is_predicted', 'adref', 'category', 'location', 'company']\n"
     ]
    }
   ],
   "source": [
    "import requests\n",
    "\n",
    "# Example: get 5 job postings for \"Data Scientist\" in India\n",
    "url = f\"https://api.adzuna.com/v1/api/jobs/in/search/1\"\n",
    "params = {\n",
    "    \"app_id\": ADZUNA_APP_ID,\n",
    "    \"app_key\": ADZUNA_APP_KEY,\n",
    "    \"what\": \"Data Scientist\",\n",
    "    \"where\": \"India\",\n",
    "    \"results_per_page\": 5,\n",
    "    \"content-type\": \"application/json\"\n",
    "}\n",
    "\n",
    "response = requests.get(url, params=params)\n",
    "\n",
    "# Check if the API request was successful\n",
    "if response.status_code == 200:\n",
    "    data = response.json() # Convert the JSON response into a Python dictionary\n",
    "    jobs = data[\"results\"] # Extract the list of job postings from the dictionary\n",
    "    # Print how many jobs were fetched\n",
    "    print(\"Adzuna API works! Number of jobs fetched:\", len(jobs))\n",
    "    # Print the keys (fields) of the first job posting to understand the structure\n",
    "    print(\"Sample job keys:\", list(jobs[0].keys()))\n",
    "else:\n",
    "    # If the API request failed, print the status code and the response text for debugging\n",
    "    print(\"Adzuna API failed.\")\n",
    "    print(\"Status code:\", response.status_code)\n",
    "    print(\"Response message:\", response.text)"
   ]
  },
  {
   "cell_type": "code",
   "execution_count": null,
   "metadata": {},
   "outputs": [],
   "source": []
  }
 ],
 "metadata": {
  "anaconda-cloud": {},
  "kernelspec": {
   "display_name": "Python 3 (ipykernel)",
   "language": "python",
   "name": "python3"
  },
  "language_info": {
   "codemirror_mode": {
    "name": "ipython",
    "version": 3
   },
   "file_extension": ".py",
   "mimetype": "text/x-python",
   "name": "python",
   "nbconvert_exporter": "python",
   "pygments_lexer": "ipython3",
   "version": "3.8.20"
  }
 },
 "nbformat": 4,
 "nbformat_minor": 1
}
